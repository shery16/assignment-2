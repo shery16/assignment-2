{
 "cells": [
  {
   "cell_type": "markdown",
   "id": "0d0d3385-b8ef-4946-b34e-7ee6aaad4d32",
   "metadata": {},
   "source": [
    "## Q.1 Age Group Classification"
   ]
  },
  {
   "cell_type": "code",
   "execution_count": 1,
   "id": "55204552-4556-4374-8851-6f296d929737",
   "metadata": {},
   "outputs": [
    {
     "name": "stdout",
     "output_type": "stream",
     "text": [
      "child\n"
     ]
    }
   ],
   "source": [
    "# Age grouping\n",
    "\n",
    "age = 12\n",
    "\n",
    "\n",
    "if age >= 0 and age <= 12:\n",
    "    print(\"child\")\n",
    "elif age >= 13 and age <= 19:\n",
    "    print(\"teenager\")\n",
    "elif age >= 20 and age <= 64:\n",
    "    print(\"adult\")\n",
    "else:\n",
    "    print(\"senior\")"
   ]
  },
  {
   "cell_type": "markdown",
   "id": "a9ff92b1-46a1-4476-bc1f-8c5297fa8c7d",
   "metadata": {},
   "source": [
    "## Q.2 Checking For Eligibility For Discount "
   ]
  },
  {
   "cell_type": "code",
   "execution_count": 2,
   "id": "4b2d51cf-9335-4a2c-863a-7443b81bb4b3",
   "metadata": {},
   "outputs": [
    {
     "name": "stdin",
     "output_type": "stream",
     "text": [
      "enter your purchase amount: 1200\n",
      "enter your membership status (premium / regular): rgular\n"
     ]
    },
    {
     "name": "stdout",
     "output_type": "stream",
     "text": [
      "not eligible for discount\n"
     ]
    }
   ],
   "source": [
    "# membership status and purchase amount\n",
    "\n",
    "purchase_amount = float(input(\"enter your purchase amount:\"))\n",
    "membership_status = input(\"enter your membership status (premium / regular):\").lower()\n",
    "\n",
    "# eligibility check \n",
    "\n",
    "if (purchase_amount >= 1000 and membership_status == \"premium\") or (purchase_amount >= 2000 and membership_status == \"regular\"):\n",
    "    print(\"eligible for discount\")\n",
    "else :\n",
    "    print(\"not eligible for discount\")"
   ]
  },
  {
   "cell_type": "markdown",
   "id": "36378346-5650-4dbc-a9c5-d7fc87d0b259",
   "metadata": {},
   "source": [
    "## Q.3 Voting Eligibility Check"
   ]
  },
  {
   "cell_type": "code",
   "execution_count": 3,
   "id": "1aea6b1b-b307-41bb-adfb-c10c27a91c63",
   "metadata": {},
   "outputs": [
    {
     "name": "stdin",
     "output_type": "stream",
     "text": [
      "enter your age:  16\n",
      "enter your citizenship (citizen / citizen of special region): citizen\n"
     ]
    },
    {
     "name": "stdout",
     "output_type": "stream",
     "text": [
      "not eligible to vote\n"
     ]
    }
   ],
   "source": [
    "# age qnd citizenship status\n",
    "\n",
    "age = int(input(\"enter your age: \"))\n",
    "citizenship = input(\"enter your citizenship (citizen / citizen of special region):\" ).lower()\n",
    "\n",
    "# eligibility check\n",
    "\n",
    "if (age >= 18 and citizenship == \"citizen\") or (age >= 16 and citizenship == \"citizen of special region\"):\n",
    "    print(\"eligible to vote\")\n",
    "else :\n",
    "    print(\"not eligible to vote\")"
   ]
  },
  {
   "cell_type": "markdown",
   "id": "99afa53b-1ccd-4dd5-8a00-9cf773bd2fb5",
   "metadata": {},
   "source": [
    "## Q.4 Employee Salary Bonus Eligibility"
   ]
  },
  {
   "cell_type": "code",
   "execution_count": 4,
   "id": "7b8e1f46-6751-44e2-943a-63c5ce190baa",
   "metadata": {},
   "outputs": [
    {
     "name": "stdin",
     "output_type": "stream",
     "text": [
      "enter employee performance rating (excellent / good / satisfactory): good\n",
      "enter employee service (in years) : 12\n"
     ]
    },
    {
     "name": "stdout",
     "output_type": "stream",
     "text": [
      "eligible for bonus\n"
     ]
    }
   ],
   "source": [
    "# employee performance and employee service status.\n",
    "\n",
    "employee_performance_rating = input(\"enter employee performance rating (excellent / good / satisfactory):\").lower()\n",
    "employee_service = int(input(\"enter employee service (in years) :\"))\n",
    "\n",
    "# Eligibility Check\n",
    "\n",
    "if (employee_performance_rating == \"excellent\" and employee_service >= 5 ) or (employee_performance_rating == \"good\" and employee_service >= 10 ) or (employee_performance_rating== \"satisfactory\" and employee_service >= 15 ):\n",
    "\tprint(\"eligible for bonus\")\n",
    "else :\n",
    "\tprint(\"not eligible for bonus\")"
   ]
  },
  {
   "cell_type": "markdown",
   "id": "124865ec-7567-4ee0-a9f9-c48c6ba601d4",
   "metadata": {},
   "source": [
    "## Q.5 "
   ]
  },
  {
   "cell_type": "code",
   "execution_count": 5,
   "id": "84602bb6-e356-42b7-b27d-2135d1ec08ac",
   "metadata": {},
   "outputs": [],
   "source": [
    "word = \"I'm learning python programming\""
   ]
  },
  {
   "cell_type": "code",
   "execution_count": 6,
   "id": "a8bd7223-fcb3-44e9-8bf0-fb69291e1dd9",
   "metadata": {},
   "outputs": [
    {
     "data": {
      "text/plain": [
       "\"I'm learning python programming\""
      ]
     },
     "execution_count": 6,
     "metadata": {},
     "output_type": "execute_result"
    }
   ],
   "source": [
    "word"
   ]
  },
  {
   "cell_type": "code",
   "execution_count": 7,
   "id": "9d63a0de-d577-4637-a695-584c85735b8d",
   "metadata": {},
   "outputs": [],
   "source": [
    "result = word.replace(\" \", \"_\")"
   ]
  },
  {
   "cell_type": "code",
   "execution_count": 8,
   "id": "7c91b073-b508-4d22-827f-31839c9b0d90",
   "metadata": {},
   "outputs": [
    {
     "data": {
      "text/plain": [
       "\"I'm_learning_python_programming\""
      ]
     },
     "execution_count": 8,
     "metadata": {},
     "output_type": "execute_result"
    }
   ],
   "source": [
    "result"
   ]
  },
  {
   "cell_type": "code",
   "execution_count": 9,
   "id": "46cefb51-b9ff-4733-9cd5-50619d4c9e8c",
   "metadata": {},
   "outputs": [
    {
     "data": {
      "text/plain": [
       "3"
      ]
     },
     "execution_count": 9,
     "metadata": {},
     "output_type": "execute_result"
    }
   ],
   "source": [
    "result.count(\"_\")"
   ]
  },
  {
   "cell_type": "code",
   "execution_count": 10,
   "id": "0b7955fd-2c62-4be3-be4d-1ce866ce7a8b",
   "metadata": {},
   "outputs": [
    {
     "data": {
      "text/plain": [
       "3"
      ]
     },
     "execution_count": 10,
     "metadata": {},
     "output_type": "execute_result"
    }
   ],
   "source": [
    "result.find(\"_\")"
   ]
  },
  {
   "cell_type": "markdown",
   "id": "f40a7e48-3ccf-442a-98b4-f247f2005542",
   "metadata": {},
   "source": [
    "## Q.6"
   ]
  },
  {
   "cell_type": "code",
   "execution_count": 11,
   "id": "eae15c35-84cd-4a58-aac6-730e7b4f8c70",
   "metadata": {},
   "outputs": [
    {
     "data": {
      "text/plain": [
       "\"I'm learning python programming\""
      ]
     },
     "execution_count": 11,
     "metadata": {},
     "output_type": "execute_result"
    }
   ],
   "source": [
    "word"
   ]
  },
  {
   "cell_type": "code",
   "execution_count": 12,
   "id": "8e9d2e97-5049-4eb9-bd2c-ff002fce0ca0",
   "metadata": {},
   "outputs": [
    {
     "data": {
      "text/plain": [
       "str"
      ]
     },
     "execution_count": 12,
     "metadata": {},
     "output_type": "execute_result"
    }
   ],
   "source": [
    "type(word)"
   ]
  },
  {
   "cell_type": "code",
   "execution_count": 13,
   "id": "4459792e-eb84-40d0-9bdd-de7f35fb79e0",
   "metadata": {},
   "outputs": [
    {
     "data": {
      "text/plain": [
       "\"I'm learning python programm\""
      ]
     },
     "execution_count": 13,
     "metadata": {},
     "output_type": "execute_result"
    }
   ],
   "source": [
    "word[0:28]"
   ]
  },
  {
   "cell_type": "code",
   "execution_count": 14,
   "id": "2f914a24-c075-4645-b7e4-b46e0a3b2a2f",
   "metadata": {},
   "outputs": [
    {
     "data": {
      "text/plain": [
       "'learning'"
      ]
     },
     "execution_count": 14,
     "metadata": {},
     "output_type": "execute_result"
    }
   ],
   "source": [
    "word[4:12]"
   ]
  },
  {
   "cell_type": "code",
   "execution_count": 15,
   "id": "8e2420ab-9c84-4f4f-b0f3-cc92776a9b11",
   "metadata": {},
   "outputs": [
    {
     "data": {
      "text/plain": [
       "'python '"
      ]
     },
     "execution_count": 15,
     "metadata": {},
     "output_type": "execute_result"
    }
   ],
   "source": [
    "word[13:20]"
   ]
  },
  {
   "cell_type": "code",
   "execution_count": 16,
   "id": "b2d95af6-bca4-4030-916f-0db553235eee",
   "metadata": {},
   "outputs": [
    {
     "data": {
      "text/plain": [
       "\"gnimmargorp nohtyp gninrael m'I\""
      ]
     },
     "execution_count": 16,
     "metadata": {},
     "output_type": "execute_result"
    }
   ],
   "source": [
    "word[::-1]"
   ]
  },
  {
   "cell_type": "markdown",
   "id": "0f85bf8b-21f6-4041-bea2-8f6aa858fb2a",
   "metadata": {},
   "source": [
    "## Q.7"
   ]
  },
  {
   "cell_type": "code",
   "execution_count": 17,
   "id": "335fa7d6-8a3a-4c96-9550-c118a6f66f9b",
   "metadata": {},
   "outputs": [],
   "source": [
    "sentense = \"Hello World, We are learning Python\""
   ]
  },
  {
   "cell_type": "code",
   "execution_count": 18,
   "id": "20b82ded-5412-4946-8e76-1be1172ac186",
   "metadata": {},
   "outputs": [
    {
     "data": {
      "text/plain": [
       "'Hello World, We are learning Python'"
      ]
     },
     "execution_count": 18,
     "metadata": {},
     "output_type": "execute_result"
    }
   ],
   "source": [
    "sentense"
   ]
  },
  {
   "cell_type": "code",
   "execution_count": 19,
   "id": "9ce41422-316d-40c5-959d-3fa3ddbf6427",
   "metadata": {},
   "outputs": [
    {
     "data": {
      "text/plain": [
       "str"
      ]
     },
     "execution_count": 19,
     "metadata": {},
     "output_type": "execute_result"
    }
   ],
   "source": [
    "type(sentense)"
   ]
  },
  {
   "cell_type": "code",
   "execution_count": 20,
   "id": "66031b84-6bba-485e-b5da-6dcc5d785b1f",
   "metadata": {},
   "outputs": [],
   "source": [
    "update = sentense[::-1]"
   ]
  },
  {
   "cell_type": "code",
   "execution_count": 21,
   "id": "fc2a5590-de85-4663-a2bf-b88e02bc22a3",
   "metadata": {},
   "outputs": [
    {
     "data": {
      "text/plain": [
       "'nohtyP gninrael era eW ,dlroW olleH'"
      ]
     },
     "execution_count": 21,
     "metadata": {},
     "output_type": "execute_result"
    }
   ],
   "source": [
    "update"
   ]
  },
  {
   "cell_type": "code",
   "execution_count": 22,
   "id": "372a78d9-b464-4146-a941-34fe71e6ef39",
   "metadata": {},
   "outputs": [
    {
     "data": {
      "text/plain": [
       "'Hello World, We are learning Python'"
      ]
     },
     "execution_count": 22,
     "metadata": {},
     "output_type": "execute_result"
    }
   ],
   "source": [
    "sentense"
   ]
  },
  {
   "cell_type": "code",
   "execution_count": 23,
   "id": "9d645ac6-f915-4241-a387-d448c74b2d44",
   "metadata": {},
   "outputs": [
    {
     "data": {
      "text/plain": [
       "['Hello', 'World,', 'We', 'are', 'learning', 'Python']"
      ]
     },
     "execution_count": 23,
     "metadata": {},
     "output_type": "execute_result"
    }
   ],
   "source": [
    "sentense.split()"
   ]
  },
  {
   "cell_type": "markdown",
   "id": "924bbb53-94d0-44e4-b84f-3e8bb019c8c2",
   "metadata": {},
   "source": [
    "## Q.8 "
   ]
  },
  {
   "cell_type": "code",
   "execution_count": 25,
   "id": "c5c25705-3f60-40d6-8de0-8c9143a6151d",
   "metadata": {},
   "outputs": [],
   "source": [
    "product_code = \"SKU-12345-XYZ\""
   ]
  },
  {
   "cell_type": "code",
   "execution_count": 31,
   "id": "63864e04-1b10-4aec-985d-4dc232558476",
   "metadata": {},
   "outputs": [],
   "source": [
    "product = product_code.replace(\"SKU-\", \" \").replace(\"-XYZ\",\" \")"
   ]
  },
  {
   "cell_type": "code",
   "execution_count": 32,
   "id": "3570fbf4-0f85-4ef2-b9f7-8ec81e8581c4",
   "metadata": {},
   "outputs": [
    {
     "data": {
      "text/plain": [
       "' 12345 '"
      ]
     },
     "execution_count": 32,
     "metadata": {},
     "output_type": "execute_result"
    }
   ],
   "source": [
    "product"
   ]
  },
  {
   "cell_type": "code",
   "execution_count": 33,
   "id": "432d5399-4c62-4017-a727-b3c0213a942d",
   "metadata": {},
   "outputs": [
    {
     "data": {
      "text/plain": [
       "'SKU-12345-XYZ'"
      ]
     },
     "execution_count": 33,
     "metadata": {},
     "output_type": "execute_result"
    }
   ],
   "source": [
    "product_code"
   ]
  },
  {
   "cell_type": "code",
   "execution_count": 34,
   "id": "384e7684-717d-40a0-999d-b26a8c02043c",
   "metadata": {},
   "outputs": [],
   "source": [
    "product1 = product_code[4:9]"
   ]
  },
  {
   "cell_type": "code",
   "execution_count": 35,
   "id": "543e098d-fc82-4949-b59e-9440d49b95f8",
   "metadata": {},
   "outputs": [
    {
     "data": {
      "text/plain": [
       "'12345'"
      ]
     },
     "execution_count": 35,
     "metadata": {},
     "output_type": "execute_result"
    }
   ],
   "source": [
    "product1"
   ]
  },
  {
   "cell_type": "markdown",
   "id": "e5fff9c9-e3e1-4d3d-b212-5e7b5142e0cd",
   "metadata": {},
   "source": [
    "## Q.9"
   ]
  },
  {
   "cell_type": "code",
   "execution_count": null,
   "id": "41fd30b4-38a4-4f65-a2b6-e139eaae82c2",
   "metadata": {},
   "outputs": [],
   "source": []
  },
  {
   "cell_type": "code",
   "execution_count": null,
   "id": "de828748-5776-4887-8ec4-dbe63d75e942",
   "metadata": {},
   "outputs": [],
   "source": []
  },
  {
   "cell_type": "code",
   "execution_count": null,
   "id": "a41b95a9-9e95-4eb8-870e-3de89460ac3b",
   "metadata": {},
   "outputs": [],
   "source": []
  },
  {
   "cell_type": "markdown",
   "id": "0abf8f54-73ab-45e6-944b-6a1060a35c92",
   "metadata": {},
   "source": [
    "## Q.10 "
   ]
  },
  {
   "cell_type": "code",
   "execution_count": null,
   "id": "592dd9fb-441b-4f07-b643-16681e8cd1a3",
   "metadata": {},
   "outputs": [],
   "source": []
  },
  {
   "cell_type": "code",
   "execution_count": null,
   "id": "b72e729e-cae2-4483-ac9c-7e275a67f69f",
   "metadata": {},
   "outputs": [],
   "source": []
  },
  {
   "cell_type": "code",
   "execution_count": null,
   "id": "80e15654-009d-469d-b3e8-c92822c6aee2",
   "metadata": {},
   "outputs": [],
   "source": []
  },
  {
   "cell_type": "code",
   "execution_count": null,
   "id": "145426cb-8791-4f14-a873-bfc550d967a3",
   "metadata": {},
   "outputs": [],
   "source": []
  },
  {
   "cell_type": "code",
   "execution_count": null,
   "id": "2be98843-ad03-466a-b0db-7e9a2960daaa",
   "metadata": {},
   "outputs": [],
   "source": []
  },
  {
   "cell_type": "code",
   "execution_count": null,
   "id": "e68e806f-830a-4877-a0f4-531f9275151a",
   "metadata": {},
   "outputs": [],
   "source": []
  },
  {
   "cell_type": "code",
   "execution_count": null,
   "id": "e2d4cf59-669e-4a7d-ada2-1a3a5b28a497",
   "metadata": {},
   "outputs": [],
   "source": []
  },
  {
   "cell_type": "code",
   "execution_count": null,
   "id": "02b98641-ded7-46f1-8630-a67e7525f18c",
   "metadata": {},
   "outputs": [],
   "source": []
  },
  {
   "cell_type": "code",
   "execution_count": null,
   "id": "907858e9-4ea3-4d59-9fc7-943a224df5ea",
   "metadata": {},
   "outputs": [],
   "source": []
  },
  {
   "cell_type": "code",
   "execution_count": null,
   "id": "0f4c233e-6aa4-43e9-93b6-f6c38e9a8c78",
   "metadata": {},
   "outputs": [],
   "source": []
  },
  {
   "cell_type": "code",
   "execution_count": null,
   "id": "f694db79-fa87-434c-8671-b7f8bf8d43b1",
   "metadata": {},
   "outputs": [],
   "source": []
  },
  {
   "cell_type": "code",
   "execution_count": null,
   "id": "21245f78-4199-459f-9870-bc420cfb9b8b",
   "metadata": {},
   "outputs": [],
   "source": []
  },
  {
   "cell_type": "code",
   "execution_count": null,
   "id": "93c26d44-33b8-4672-91a7-f07d203338de",
   "metadata": {},
   "outputs": [],
   "source": []
  },
  {
   "cell_type": "code",
   "execution_count": null,
   "id": "50210592-28e9-4d3e-9e43-97e24a6fd0ce",
   "metadata": {},
   "outputs": [],
   "source": []
  },
  {
   "cell_type": "code",
   "execution_count": null,
   "id": "ad2edb94-9956-4d73-8598-9b021407bc53",
   "metadata": {},
   "outputs": [],
   "source": []
  },
  {
   "cell_type": "code",
   "execution_count": null,
   "id": "4c240d32-147b-4d99-9f84-6af6e7cc3664",
   "metadata": {},
   "outputs": [],
   "source": []
  },
  {
   "cell_type": "code",
   "execution_count": null,
   "id": "7dc4213b-b453-4999-867a-e516c3eda770",
   "metadata": {},
   "outputs": [],
   "source": []
  },
  {
   "cell_type": "code",
   "execution_count": null,
   "id": "82f1a844-2f9f-4d94-931e-1f0a31890c6f",
   "metadata": {},
   "outputs": [],
   "source": []
  }
 ],
 "metadata": {
  "kernelspec": {
   "display_name": "Python 3 (ipykernel)",
   "language": "python",
   "name": "python3"
  },
  "language_info": {
   "codemirror_mode": {
    "name": "ipython",
    "version": 3
   },
   "file_extension": ".py",
   "mimetype": "text/x-python",
   "name": "python",
   "nbconvert_exporter": "python",
   "pygments_lexer": "ipython3",
   "version": "3.12.7"
  }
 },
 "nbformat": 4,
 "nbformat_minor": 5
}
